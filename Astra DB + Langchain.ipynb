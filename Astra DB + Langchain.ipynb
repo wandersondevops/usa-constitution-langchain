{
 "cells": [
  {
   "cell_type": "code",
   "execution_count": 30,
   "id": "cb1fbe41",
   "metadata": {
    "ExecuteTime": {
     "end_time": "2024-07-14T14:17:50.334459Z",
     "start_time": "2024-07-14T14:17:30.917984Z"
    }
   },
   "outputs": [
    {
     "name": "stderr",
     "output_type": "stream",
     "text": [
      "/Library/Python/3.9/site-packages/tqdm/auto.py:21: TqdmWarning: IProgress not found. Please update jupyter and ipywidgets. See https://ipywidgets.readthedocs.io/en/stable/user_install.html\n",
      "  from .autonotebook import tqdm as notebook_tqdm\n"
     ]
    },
    {
     "name": "stdout",
     "output_type": "stream",
     "text": [
      "The United States Bill of Rights.\n",
      "The Ten Original Amendments to the Constitution of the United States\n",
      "Passed by Congress September 25, 1789\n",
      "Ratified December 15, 1791\n",
      "\n",
      "\n",
      "I\n",
      "Congress shall make no law respecting an establishment of religion, or\n",
      "\n",
      "prohibiting the free exercise thereof; or abridging the freedom of speech, or of\n",
      "\n",
      "the press, or the right of the people peaceably to assemble, and to petition the\n",
      "\n",
      "Government for a redress of grievances.\n",
      "II\n",
      "A well-regulated militia, being necessary to the security of a free State,\n",
      "\n",
      "the right of the people to keep and bear arms, shall not be\n",
      "\n",
      "infringed.\n",
      "III\n",
      "No soldier shall, in time of peace be quartered in any house, without the\n",
      "\n",
      "consent of the owner, nor in time of war, but in a manner to be prescribed by\n",
      "\n",
      "law.\n",
      "IV\n",
      "The right of the people to be secure in their persons, houses, papers, and\n",
      "\n",
      "effects, against unreasonable searches and seizures, shall not be violated, and\n",
      "\n",
      "no Warrants shall issue, but upon probable cause, supported by oath or\n",
      "\n",
      "affirmation, and particularly describing the place to be searched, and the\n",
      "\n",
      "persons or things to be seized. \n",
      "V\n",
      "No person shall be held to answer for a capital, or otherwise infamous crime,\n",
      "\n",
      "unless on a presentment or indictment of a Grand Jury, except in cases arising\n",
      "\n",
      "in the land or naval forces, or in the Militia, when in actual service in time\n",
      "\n",
      "of War or public danger; nor shall any person be subject for the same offense to\n",
      "\n",
      "be twice put in jeopardy of life or limb; nor shall be compelled in any criminal\n",
      "\n",
      "case to be a witness against himself, nor be deprived of life, liberty, or\n",
      "\n",
      "property, without due process of law; nor shall private property be taken for\n",
      "\n",
      "public use without just compensation. \n",
      "VI\n",
      "In all criminal prosecutions, the accused shall enjoy the right to a speedy\n",
      "\n",
      "and public trial, by an impartial jury of the State and district wherein the\n",
      "\n",
      "crime shall have been committed, which district shall have been previously\n",
      "\n",
      "ascertained by law, and to be informed of the nature and cause of the\n",
      "\n",
      "accusation; to be confronted with the witnesses against him; to have compulsory\n",
      "\n",
      "process for obtaining witnesses in his favor, and to have the assistance of\n",
      "\n",
      "counsel for his defense. \n",
      "VII\n",
      "In suits at common law, where the value in controversy shall exceed twenty\n",
      "\n",
      "dollars, the right of trial by jury shall be preserved, and no fact tried by a\n",
      "\n",
      "jury shall be otherwise re-examined in any court of the United States, than\n",
      "\n",
      "according to the rules of the common law. \n",
      "VIII\n",
      "Excessive bail shall not be required nor excessive fines imposed, nor cruel\n",
      "\n",
      "and unusual punishments inflicted. \n",
      "IX\n",
      "The enumeration in the Constitution, of certain rights, shall not be\n",
      "\n",
      "construed to deny or disparage others retained by the\n",
      "\n",
      "people. \n",
      "X\n",
      "The powers not delegated to the United States by the Constitution, nor\n",
      "\n",
      "prohibited by it to the States, are reserved to the States respectively, or to\n",
      "\n",
      "the people.\n"
     ]
    }
   ],
   "source": [
    "import datasets\n",
    "\n",
    "def load_articles(n=5):\n",
    "    dataset = datasets.load_dataset(\"sedthh/gutenberg_english\", 'default', split='train', streaming='True')\n",
    "    data = dataset.take(n)\n",
    "    return [d['TEXT'] for d in data]\n",
    "\n",
    "articles = load_articles()\n",
    "print(articles[0])\n",
    "    "
   ]
  },
  {
   "cell_type": "code",
   "execution_count": 31,
   "id": "d7745d26",
   "metadata": {
    "ExecuteTime": {
     "end_time": "2024-07-14T14:38:52.150780Z",
     "start_time": "2024-07-14T14:38:52.089614Z"
    }
   },
   "outputs": [
    {
     "name": "stdout",
     "output_type": "stream",
     "text": [
      "Found existing installation: langchain 0.2.7\n",
      "Uninstalling langchain-0.2.7:\n",
      "  Successfully uninstalled langchain-0.2.7\n",
      "Found existing installation: openai 1.35.13\n",
      "Uninstalling openai-1.35.13:\n",
      "  Successfully uninstalled openai-1.35.13\n",
      "Note: you may need to restart the kernel to use updated packages.\n",
      "Defaulting to user installation because normal site-packages is not writeable\n",
      "Requirement already satisfied: langchain-openai in /Users/wanderson/Library/Python/3.9/lib/python/site-packages (0.1.16)\n",
      "Requirement already satisfied: langchain-core<0.3.0,>=0.2.17 in /Users/wanderson/Library/Python/3.9/lib/python/site-packages (from langchain-openai) (0.2.18)\n",
      "Collecting openai<2.0.0,>=1.32.0 (from langchain-openai)\n",
      "  Using cached openai-1.35.13-py3-none-any.whl.metadata (21 kB)\n",
      "Requirement already satisfied: tiktoken<1,>=0.7 in /Users/wanderson/Library/Python/3.9/lib/python/site-packages (from langchain-openai) (0.7.0)\n",
      "Requirement already satisfied: PyYAML>=5.3 in /Users/wanderson/Library/Python/3.9/lib/python/site-packages (from langchain-core<0.3.0,>=0.2.17->langchain-openai) (6.0.1)\n",
      "Requirement already satisfied: jsonpatch<2.0,>=1.33 in /Users/wanderson/Library/Python/3.9/lib/python/site-packages (from langchain-core<0.3.0,>=0.2.17->langchain-openai) (1.33)\n",
      "Requirement already satisfied: langsmith<0.2.0,>=0.1.75 in /Users/wanderson/Library/Python/3.9/lib/python/site-packages (from langchain-core<0.3.0,>=0.2.17->langchain-openai) (0.1.85)\n",
      "Requirement already satisfied: packaging<25,>=23.2 in /Users/wanderson/Library/Python/3.9/lib/python/site-packages (from langchain-core<0.3.0,>=0.2.17->langchain-openai) (24.1)\n",
      "Requirement already satisfied: pydantic<3,>=1 in /Users/wanderson/Library/Python/3.9/lib/python/site-packages (from langchain-core<0.3.0,>=0.2.17->langchain-openai) (2.8.2)\n",
      "Requirement already satisfied: tenacity!=8.4.0,<9.0.0,>=8.1.0 in /Users/wanderson/Library/Python/3.9/lib/python/site-packages (from langchain-core<0.3.0,>=0.2.17->langchain-openai) (8.5.0)\n",
      "Requirement already satisfied: anyio<5,>=3.5.0 in /Users/wanderson/Library/Python/3.9/lib/python/site-packages (from openai<2.0.0,>=1.32.0->langchain-openai) (4.4.0)\n",
      "Requirement already satisfied: distro<2,>=1.7.0 in /Users/wanderson/Library/Python/3.9/lib/python/site-packages (from openai<2.0.0,>=1.32.0->langchain-openai) (1.9.0)\n",
      "Requirement already satisfied: httpx<1,>=0.23.0 in /Users/wanderson/Library/Python/3.9/lib/python/site-packages (from openai<2.0.0,>=1.32.0->langchain-openai) (0.27.0)\n",
      "Requirement already satisfied: sniffio in /Users/wanderson/Library/Python/3.9/lib/python/site-packages (from openai<2.0.0,>=1.32.0->langchain-openai) (1.3.1)\n",
      "Requirement already satisfied: tqdm>4 in /Library/Python/3.9/site-packages (from openai<2.0.0,>=1.32.0->langchain-openai) (4.66.4)\n",
      "Requirement already satisfied: typing-extensions<5,>=4.7 in /Users/wanderson/Library/Python/3.9/lib/python/site-packages (from openai<2.0.0,>=1.32.0->langchain-openai) (4.12.2)\n",
      "Requirement already satisfied: regex>=2022.1.18 in /Users/wanderson/Library/Python/3.9/lib/python/site-packages (from tiktoken<1,>=0.7->langchain-openai) (2024.5.15)\n",
      "Requirement already satisfied: requests>=2.26.0 in /Users/wanderson/Library/Python/3.9/lib/python/site-packages (from tiktoken<1,>=0.7->langchain-openai) (2.32.3)\n",
      "Requirement already satisfied: idna>=2.8 in /Users/wanderson/Library/Python/3.9/lib/python/site-packages (from anyio<5,>=3.5.0->openai<2.0.0,>=1.32.0->langchain-openai) (3.7)\n",
      "Requirement already satisfied: exceptiongroup>=1.0.2 in /Users/wanderson/Library/Python/3.9/lib/python/site-packages (from anyio<5,>=3.5.0->openai<2.0.0,>=1.32.0->langchain-openai) (1.2.1)\n",
      "Requirement already satisfied: certifi in /Users/wanderson/Library/Python/3.9/lib/python/site-packages (from httpx<1,>=0.23.0->openai<2.0.0,>=1.32.0->langchain-openai) (2024.6.2)\n",
      "Requirement already satisfied: httpcore==1.* in /Users/wanderson/Library/Python/3.9/lib/python/site-packages (from httpx<1,>=0.23.0->openai<2.0.0,>=1.32.0->langchain-openai) (1.0.5)\n",
      "Requirement already satisfied: h11<0.15,>=0.13 in /Users/wanderson/Library/Python/3.9/lib/python/site-packages (from httpcore==1.*->httpx<1,>=0.23.0->openai<2.0.0,>=1.32.0->langchain-openai) (0.14.0)\n",
      "Requirement already satisfied: jsonpointer>=1.9 in /Users/wanderson/Library/Python/3.9/lib/python/site-packages (from jsonpatch<2.0,>=1.33->langchain-core<0.3.0,>=0.2.17->langchain-openai) (3.0.0)\n",
      "Requirement already satisfied: orjson<4.0.0,>=3.9.14 in /Users/wanderson/Library/Python/3.9/lib/python/site-packages (from langsmith<0.2.0,>=0.1.75->langchain-core<0.3.0,>=0.2.17->langchain-openai) (3.10.6)\n",
      "Requirement already satisfied: annotated-types>=0.4.0 in /Users/wanderson/Library/Python/3.9/lib/python/site-packages (from pydantic<3,>=1->langchain-core<0.3.0,>=0.2.17->langchain-openai) (0.7.0)\n",
      "Requirement already satisfied: pydantic-core==2.20.1 in /Users/wanderson/Library/Python/3.9/lib/python/site-packages (from pydantic<3,>=1->langchain-core<0.3.0,>=0.2.17->langchain-openai) (2.20.1)\n",
      "Requirement already satisfied: charset-normalizer<4,>=2 in /Users/wanderson/Library/Python/3.9/lib/python/site-packages (from requests>=2.26.0->tiktoken<1,>=0.7->langchain-openai) (3.3.2)\n",
      "Requirement already satisfied: urllib3<3,>=1.21.1 in /Users/wanderson/Library/Python/3.9/lib/python/site-packages (from requests>=2.26.0->tiktoken<1,>=0.7->langchain-openai) (2.2.2)\n",
      "Using cached openai-1.35.13-py3-none-any.whl (328 kB)\n",
      "Installing collected packages: openai\n",
      "Successfully installed openai-1.35.13\n",
      "Note: you may need to restart the kernel to use updated packages.\n",
      "Defaulting to user installation because normal site-packages is not writeable\n",
      "Requirement already satisfied: python-dotenv in /Users/wanderson/Library/Python/3.9/lib/python/site-packages (1.0.1)\n",
      "Note: you may need to restart the kernel to use updated packages.\n",
      "Defaulting to user installation because normal site-packages is not writeable\n",
      "Requirement already satisfied: langchain-community in /Users/wanderson/Library/Python/3.9/lib/python/site-packages (0.2.7)\n",
      "Requirement already satisfied: PyYAML>=5.3 in /Users/wanderson/Library/Python/3.9/lib/python/site-packages (from langchain-community) (6.0.1)\n",
      "Requirement already satisfied: SQLAlchemy<3,>=1.4 in /Users/wanderson/Library/Python/3.9/lib/python/site-packages (from langchain-community) (2.0.31)\n",
      "Requirement already satisfied: aiohttp<4.0.0,>=3.8.3 in /Library/Python/3.9/site-packages (from langchain-community) (3.9.5)\n",
      "Requirement already satisfied: dataclasses-json<0.7,>=0.5.7 in /Users/wanderson/Library/Python/3.9/lib/python/site-packages (from langchain-community) (0.6.7)\n",
      "Collecting langchain<0.3.0,>=0.2.7 (from langchain-community)\n",
      "  Using cached langchain-0.2.7-py3-none-any.whl.metadata (6.9 kB)\n",
      "Requirement already satisfied: langchain-core<0.3.0,>=0.2.12 in /Users/wanderson/Library/Python/3.9/lib/python/site-packages (from langchain-community) (0.2.18)\n",
      "Requirement already satisfied: langsmith<0.2.0,>=0.1.0 in /Users/wanderson/Library/Python/3.9/lib/python/site-packages (from langchain-community) (0.1.85)\n",
      "Requirement already satisfied: numpy<2,>=1 in /Users/wanderson/Library/Python/3.9/lib/python/site-packages (from langchain-community) (1.26.4)\n",
      "Requirement already satisfied: requests<3,>=2 in /Users/wanderson/Library/Python/3.9/lib/python/site-packages (from langchain-community) (2.32.3)\n",
      "Requirement already satisfied: tenacity!=8.4.0,<9.0.0,>=8.1.0 in /Users/wanderson/Library/Python/3.9/lib/python/site-packages (from langchain-community) (8.5.0)\n",
      "Requirement already satisfied: aiosignal>=1.1.2 in /Library/Python/3.9/site-packages (from aiohttp<4.0.0,>=3.8.3->langchain-community) (1.3.1)\n",
      "Requirement already satisfied: attrs>=17.3.0 in /Users/wanderson/Library/Python/3.9/lib/python/site-packages (from aiohttp<4.0.0,>=3.8.3->langchain-community) (23.2.0)\n",
      "Requirement already satisfied: frozenlist>=1.1.1 in /Library/Python/3.9/site-packages (from aiohttp<4.0.0,>=3.8.3->langchain-community) (1.4.1)\n",
      "Requirement already satisfied: multidict<7.0,>=4.5 in /Library/Python/3.9/site-packages (from aiohttp<4.0.0,>=3.8.3->langchain-community) (6.0.5)\n",
      "Requirement already satisfied: yarl<2.0,>=1.0 in /Library/Python/3.9/site-packages (from aiohttp<4.0.0,>=3.8.3->langchain-community) (1.9.4)\n",
      "Requirement already satisfied: async-timeout<5.0,>=4.0 in /Library/Python/3.9/site-packages (from aiohttp<4.0.0,>=3.8.3->langchain-community) (4.0.3)\n",
      "Requirement already satisfied: marshmallow<4.0.0,>=3.18.0 in /Users/wanderson/Library/Python/3.9/lib/python/site-packages (from dataclasses-json<0.7,>=0.5.7->langchain-community) (3.21.3)\n",
      "Requirement already satisfied: typing-inspect<1,>=0.4.0 in /Users/wanderson/Library/Python/3.9/lib/python/site-packages (from dataclasses-json<0.7,>=0.5.7->langchain-community) (0.9.0)\n",
      "Requirement already satisfied: langchain-text-splitters<0.3.0,>=0.2.0 in /Users/wanderson/Library/Python/3.9/lib/python/site-packages (from langchain<0.3.0,>=0.2.7->langchain-community) (0.2.2)\n",
      "Requirement already satisfied: pydantic<3,>=1 in /Users/wanderson/Library/Python/3.9/lib/python/site-packages (from langchain<0.3.0,>=0.2.7->langchain-community) (2.8.2)\n",
      "Requirement already satisfied: jsonpatch<2.0,>=1.33 in /Users/wanderson/Library/Python/3.9/lib/python/site-packages (from langchain-core<0.3.0,>=0.2.12->langchain-community) (1.33)\n",
      "Requirement already satisfied: packaging<25,>=23.2 in /Users/wanderson/Library/Python/3.9/lib/python/site-packages (from langchain-core<0.3.0,>=0.2.12->langchain-community) (24.1)\n",
      "Requirement already satisfied: orjson<4.0.0,>=3.9.14 in /Users/wanderson/Library/Python/3.9/lib/python/site-packages (from langsmith<0.2.0,>=0.1.0->langchain-community) (3.10.6)\n",
      "Requirement already satisfied: charset-normalizer<4,>=2 in /Users/wanderson/Library/Python/3.9/lib/python/site-packages (from requests<3,>=2->langchain-community) (3.3.2)\n",
      "Requirement already satisfied: idna<4,>=2.5 in /Users/wanderson/Library/Python/3.9/lib/python/site-packages (from requests<3,>=2->langchain-community) (3.7)\n",
      "Requirement already satisfied: urllib3<3,>=1.21.1 in /Users/wanderson/Library/Python/3.9/lib/python/site-packages (from requests<3,>=2->langchain-community) (2.2.2)\n",
      "Requirement already satisfied: certifi>=2017.4.17 in /Users/wanderson/Library/Python/3.9/lib/python/site-packages (from requests<3,>=2->langchain-community) (2024.6.2)\n",
      "Requirement already satisfied: typing-extensions>=4.6.0 in /Users/wanderson/Library/Python/3.9/lib/python/site-packages (from SQLAlchemy<3,>=1.4->langchain-community) (4.12.2)\n",
      "Requirement already satisfied: greenlet!=0.4.17 in /Users/wanderson/Library/Python/3.9/lib/python/site-packages (from SQLAlchemy<3,>=1.4->langchain-community) (3.0.3)\n",
      "Requirement already satisfied: jsonpointer>=1.9 in /Users/wanderson/Library/Python/3.9/lib/python/site-packages (from jsonpatch<2.0,>=1.33->langchain-core<0.3.0,>=0.2.12->langchain-community) (3.0.0)\n",
      "Requirement already satisfied: annotated-types>=0.4.0 in /Users/wanderson/Library/Python/3.9/lib/python/site-packages (from pydantic<3,>=1->langchain<0.3.0,>=0.2.7->langchain-community) (0.7.0)\n",
      "Requirement already satisfied: pydantic-core==2.20.1 in /Users/wanderson/Library/Python/3.9/lib/python/site-packages (from pydantic<3,>=1->langchain<0.3.0,>=0.2.7->langchain-community) (2.20.1)\n",
      "Requirement already satisfied: mypy-extensions>=0.3.0 in /Users/wanderson/Library/Python/3.9/lib/python/site-packages (from typing-inspect<1,>=0.4.0->dataclasses-json<0.7,>=0.5.7->langchain-community) (1.0.0)\n",
      "Using cached langchain-0.2.7-py3-none-any.whl (983 kB)\n",
      "Installing collected packages: langchain\n",
      "Successfully installed langchain-0.2.7\n",
      "Note: you may need to restart the kernel to use updated packages.\n"
     ]
    }
   ],
   "source": [
    "%pip uninstall langchain openai -y\n",
    "%pip install langchain-openai\n",
    "%pip install python-dotenv\n",
    "%pip install langchain-community\n",
    "\n",
    "from langchain_openai import OpenAIEmbeddings\n",
    "from dotenv import load_dotenv\n",
    "import os\n",
    "\n",
    "# Load environment variables from a .env file\n",
    "load_dotenv()\n",
    "\n",
    "# Get your OpenAI API key from the environment variables\n",
    "openai_api_key = os.getenv(\"OPENAI_API_KEY\")\n",
    "\n",
    "# Initialize the OpenAI embeddings\n",
    "embeddings = OpenAIEmbeddings(openai_api_key=openai_api_key)"
   ]
  },
  {
   "cell_type": "code",
   "execution_count": 32,
   "id": "f9898576",
   "metadata": {},
   "outputs": [
    {
     "data": {
      "text/plain": [
       "Document(page_content='The United States Bill of Rights.\\r\\nThe Ten Original Amendments to the Constitution of the United States\\r\\nPassed by Congress September 25, 1789\\r\\nRatified December 15, 1791\\r\\n\\r\\n\\r\\nI\\r\\nCongress shall make no law respecting an establishment of religion, or\\r\\n\\r\\nprohibiting the free exercise thereof; or abridging the freedom of speech, or of\\r\\n\\r\\nthe press, or the right of the people peaceably to assemble, and to petition the\\r\\n\\r\\nGovernment for a redress of grievances.\\r\\nII\\r\\nA well-regulated militia, being necessary to the security of a free State,\\r\\n\\r\\nthe right of the people to keep and bear arms, shall not be\\r\\n\\r\\ninfringed.\\r\\nIII\\r\\nNo soldier shall, in time of peace be quartered in any house, without the\\r\\n\\r\\nconsent of the owner, nor in time of war, but in a manner to be prescribed by\\r\\n\\r\\nlaw.\\r\\nIV\\r\\nThe right of the people to be secure in their persons, houses, papers, and\\r\\n\\r\\neffects, against unreasonable searches and seizures, shall not be violated, and')"
      ]
     },
     "execution_count": 32,
     "metadata": {},
     "output_type": "execute_result"
    }
   ],
   "source": [
    "# Create an instance of the OpenAIEmbeddings class\n",
    "from langchain_text_splitters import RecursiveCharacterTextSplitter\n",
    "\n",
    "\n",
    "splitter = RecursiveCharacterTextSplitter(chunk_size=1000, chunk_overlap=0)\n",
    "documents = splitter.create_documents(articles)\n",
    "document_chunks = splitter.split_documents(documents)\n",
    "document_chunks[0]"
   ]
  },
  {
   "cell_type": "code",
   "execution_count": 33,
   "id": "babbc288371b37f5",
   "metadata": {},
   "outputs": [
    {
     "name": "stdout",
     "output_type": "stream",
     "text": [
      "Defaulting to user installation because normal site-packages is not writeable\n",
      "Requirement already satisfied: cassio>=0.1.0 in /Users/wanderson/Library/Python/3.9/lib/python/site-packages (0.1.8)\n",
      "Requirement already satisfied: cassandra-driver<4.0.0,>=3.28.0 in /Users/wanderson/Library/Python/3.9/lib/python/site-packages (from cassio>=0.1.0) (3.29.1)\n",
      "Requirement already satisfied: numpy>=1.0 in /Users/wanderson/Library/Python/3.9/lib/python/site-packages (from cassio>=0.1.0) (1.26.4)\n",
      "Requirement already satisfied: requests<3.0.0,>=2.31.0 in /Users/wanderson/Library/Python/3.9/lib/python/site-packages (from cassio>=0.1.0) (2.32.3)\n",
      "Requirement already satisfied: geomet<0.3,>=0.1 in /Users/wanderson/Library/Python/3.9/lib/python/site-packages (from cassandra-driver<4.0.0,>=3.28.0->cassio>=0.1.0) (0.2.1.post1)\n",
      "Requirement already satisfied: charset-normalizer<4,>=2 in /Users/wanderson/Library/Python/3.9/lib/python/site-packages (from requests<3.0.0,>=2.31.0->cassio>=0.1.0) (3.3.2)\n",
      "Requirement already satisfied: idna<4,>=2.5 in /Users/wanderson/Library/Python/3.9/lib/python/site-packages (from requests<3.0.0,>=2.31.0->cassio>=0.1.0) (3.7)\n",
      "Requirement already satisfied: urllib3<3,>=1.21.1 in /Users/wanderson/Library/Python/3.9/lib/python/site-packages (from requests<3.0.0,>=2.31.0->cassio>=0.1.0) (2.2.2)\n",
      "Requirement already satisfied: certifi>=2017.4.17 in /Users/wanderson/Library/Python/3.9/lib/python/site-packages (from requests<3.0.0,>=2.31.0->cassio>=0.1.0) (2024.6.2)\n",
      "Requirement already satisfied: click in /Library/Python/3.9/site-packages (from geomet<0.3,>=0.1->cassandra-driver<4.0.0,>=3.28.0->cassio>=0.1.0) (8.1.7)\n",
      "Requirement already satisfied: six in /Library/Developer/CommandLineTools/Library/Frameworks/Python3.framework/Versions/3.9/lib/python3.9/site-packages (from geomet<0.3,>=0.1->cassandra-driver<4.0.0,>=3.28.0->cassio>=0.1.0) (1.15.0)\n",
      "Note: you may need to restart the kernel to use updated packages.\n"
     ]
    }
   ],
   "source": [
    "%pip install \"cassio>=0.1.0\""
   ]
  },
  {
   "cell_type": "code",
   "execution_count": 34,
   "id": "56dd617d",
   "metadata": {},
   "outputs": [
    {
     "name": "stdout",
     "output_type": "stream",
     "text": [
      "Defaulting to user installation because normal site-packages is not writeable\n",
      "Requirement already satisfied: pip in /Users/wanderson/Library/Python/3.9/lib/python/site-packages (24.1.2)\n",
      "Note: you may need to restart the kernel to use updated packages.\n",
      "Defaulting to user installation because normal site-packages is not writeable\n",
      "Requirement already satisfied: cassandra-driver in /Users/wanderson/Library/Python/3.9/lib/python/site-packages (3.29.1)\n",
      "Requirement already satisfied: geomet<0.3,>=0.1 in /Users/wanderson/Library/Python/3.9/lib/python/site-packages (from cassandra-driver) (0.2.1.post1)\n",
      "Requirement already satisfied: click in /Library/Python/3.9/site-packages (from geomet<0.3,>=0.1->cassandra-driver) (8.1.7)\n",
      "Requirement already satisfied: six in /Library/Developer/CommandLineTools/Library/Frameworks/Python3.framework/Versions/3.9/lib/python3.9/site-packages (from geomet<0.3,>=0.1->cassandra-driver) (1.15.0)\n",
      "Note: you may need to restart the kernel to use updated packages.\n"
     ]
    }
   ],
   "source": [
    "%pip install --upgrade pip\n",
    "%pip install cassandra-driver"
   ]
  },
  {
   "cell_type": "code",
   "execution_count": 35,
   "id": "431a771d",
   "metadata": {},
   "outputs": [],
   "source": [
    "import os\n",
    "from cassandra.cluster import Cluster\n",
    "from cassandra.auth import PlainTextAuthProvider\n",
    "\n",
    "# Directly using the file paths instead of environment variables\n",
    "secure_connect_bundle_path = \"/Users/wanderson/Desktop/development/usa-constitution/secure-connect-text-qa-database.zip\"\n",
    "token_path = \"/Users/wanderson/Desktop/development/usa-constitution/token-astradb.txt\"\n",
    "\n",
    "# Read the token from the file\n",
    "with open(token_path, 'r') as token_file:\n",
    "    token = token_file.read().strip()\n",
    "\n",
    "# Set up the Cluster connection\n",
    "session = Cluster(\n",
    "    cloud={\"secure_connect_bundle\": secure_connect_bundle_path},\n",
    "    auth_provider=PlainTextAuthProvider(\"token\", token)\n",
    ").connect()\n"
   ]
  },
  {
   "cell_type": "code",
   "execution_count": 36,
   "id": "53a11e2c",
   "metadata": {},
   "outputs": [
    {
     "name": "stdout",
     "output_type": "stream",
     "text": [
      "564f87ec-e575-405d-b5c3-964a57b416e4\n"
     ]
    }
   ],
   "source": [
    "print(session.session_id)"
   ]
  },
  {
   "cell_type": "code",
   "execution_count": 37,
   "id": "394a9807",
   "metadata": {},
   "outputs": [],
   "source": [
    "from langchain.vectorstores import Cassandra\n",
    "\n",
    "astra_vectorstore = Cassandra.from_documents(\n",
    "    documents=document_chunks, \n",
    "    embedding=embeddings,\n",
    "    session=session,\n",
    "    keyspace=\"text_qa_keyspace\",\n",
    "    table_name='text_qa_vectors'\n",
    "    )"
   ]
  },
  {
   "cell_type": "code",
   "execution_count": 39,
   "id": "1e70b62b",
   "metadata": {},
   "outputs": [
    {
     "data": {
      "text/plain": [
       "'The United States Bill of Rights.\\r\\nThe Ten Original Amendments to the Constitution of the United States\\r\\nPassed by Congress September 25, 1789\\r\\nRatified December 15, 1791\\r\\n\\r\\n\\r\\nI\\r\\nCongress shall make no law respecting an establishment of religion, or\\r\\n\\r\\nprohibiting the free exercise thereof; or abridging the freedom of speech, or of\\r\\n\\r\\nthe press, or the right of the people peaceably to assemble, and to petition the\\r\\n\\r\\nGovernment for a redress of grievances.\\r\\nII\\r\\nA well-regulated militia, being necessary to the security of a free State,\\r\\n\\r\\nthe right of the people to keep and bear arms, shall not be\\r\\n\\r\\ninfringed.\\r\\nIII\\r\\nNo soldier shall, in time of peace be quartered in any house, without the\\r\\n\\r\\nconsent of the owner, nor in time of war, but in a manner to be prescribed by\\r\\n\\r\\nlaw.\\r\\nIV\\r\\nThe right of the people to be secure in their persons, houses, papers, and\\r\\n\\r\\neffects, against unreasonable searches and seizures, shall not be violated, and\\r\\n\\r\\nno Warrants shall issue, but upon probable cause, supported by oath or\\r\\n\\r\\naffirmation, and particularly describing the place to be searched, and the\\r\\n\\r\\npersons or things to be seized. \\r\\nV\\r\\nNo person shall be held to answer for a capital, or otherwise infamous crime,\\r\\n\\r\\nunless on a presentment or indictment of a Grand Jury, except in cases arising\\r\\n\\r\\nin the land or naval forces, or in the Militia, when in actual service in time\\r\\n\\r\\nof War or public danger; nor shall any person be subject for the same offense to\\r\\n\\r\\nbe twice put in jeopardy of life or limb; nor shall be compelled in any criminal\\r\\n\\r\\ncase to be a witness against himself, nor be deprived of life, liberty, or\\r\\n\\r\\nproperty, without due process of law; nor shall private property be taken for\\r\\n\\r\\npublic use without just compensation. \\r\\nVI\\r\\nIn all criminal prosecutions, the accused shall enjoy the right to a speedy\\r\\n\\r\\nand public trial, by an impartial jury of the State and district wherein the\\r\\n\\r\\ncrime shall have been committed, which district shall have been previously\\r\\n\\r\\nascertained by law, and to be informed of the nature and cause of the\\r\\n\\r\\naccusation; to be confronted with the witnesses against him; to have compulsory\\r\\n\\r\\nprocess for obtaining witnesses in his favor, and to have the assistance of\\r\\n\\r\\ncounsel for his defense. \\r\\nVII\\r\\nIn suits at common law, where the value in controversy shall exceed twenty\\r\\n\\r\\ndollars, the right of trial by jury shall be preserved, and no fact tried by a\\r\\n\\r\\njury shall be otherwise re-examined in any court of the United States, than\\r\\n\\r\\naccording to the rules of the common law. \\r\\nVIII\\r\\nExcessive bail shall not be required nor excessive fines imposed, nor cruel\\r\\n\\r\\nand unusual punishments inflicted. \\r\\nIX\\r\\nThe enumeration in the Constitution, of certain rights, shall not be\\r\\n\\r\\nconstrued to deny or disparage others retained by the\\r\\n\\r\\npeople.\\xa0\\r\\nX\\r\\nThe powers not delegated to the United States by the Constitution, nor\\r\\n\\r\\nprohibited by it to the States, are reserved to the States respectively, or to\\r\\n\\r\\nthe people.'"
      ]
     },
     "execution_count": 39,
     "metadata": {},
     "output_type": "execute_result"
    }
   ],
   "source": [
    "articles[0]"
   ]
  },
  {
   "cell_type": "code",
   "execution_count": 44,
   "id": "83c10aa8",
   "metadata": {},
   "outputs": [
    {
     "data": {
      "text/plain": [
       "[Document(page_content='THE CONSTITUTION OF THE UNITED STATES OF AMERICA, 1787\\r\\nWe the people of the United States, in Order to form a more perfect Union,\\r\\n\\r\\nestablish Justice, insure domestic Tranquility, provide for the common defence,\\r\\n\\r\\npromote the general Welfare, and secure the Blessings of Liberty to ourselves\\r\\n\\r\\nand our Posterity, do ordain and establish this Constitution for the\\r\\n\\r\\nUnited States of America.\\r\\nArticle I\\r\\nSection 1.  All legislative Powers herein granted shall be vested in a\\r\\n\\r\\nCongress of the United States, which shall consist of a Senate and\\r\\n\\r\\nHouse of Representatives.\\r\\nSection 2.  The House of Representatives shall be composed of Members\\r\\n\\r\\nchosen every second Year by the People of the several States,\\r\\n\\r\\nand the electors in each State shall have the qualifications requisite\\r\\n\\r\\nfor electors of the most numerous branch of the State legislature.\\r\\nNo Person shall be a Representative who shall not have attained to the'),\n",
       " Document(page_content='construed as to Prejudice any Claims of the United States,\\r\\n\\r\\nor of any particular State.\\r\\nSection 4.  The United States shall guarantee to every State in this Union\\r\\n\\r\\na Republican Form of Government, and shall protect each of them against\\r\\n\\r\\nInvasion; and on Application of the Legislature, or of the Executive\\r\\n\\r\\n(when the Legislature cannot be convened) against domestic Violence.\\r\\nARTICLE V\\r\\nThe Congress, whenever two thirds of both Houses shall deem it necessary,\\r\\n\\r\\nshall propose Amendments to this Constitution, or, on the Application of\\r\\n\\r\\nthe Legislatures of two thirds of the several States, shall call a Convention\\r\\n\\r\\nfor proposing Amendments, which, in either Case, shall be valid to all Intents\\r\\n\\r\\nand Purposes, as Part of this Constitution, when ratified by the Legislatures\\r\\n\\r\\nof three fourths of the several States, or by Conventions in three fourths\\r\\n\\r\\nthereof, as the one or the other Mode of Ratification may be proposed by'),\n",
       " Document(page_content='The United States Bill of Rights.\\r\\nThe Ten Original Amendments to the Constitution of the United States\\r\\nPassed by Congress September 25, 1789\\r\\nRatified December 15, 1791\\r\\n\\r\\n\\r\\nI\\r\\nCongress shall make no law respecting an establishment of religion, or\\r\\n\\r\\nprohibiting the free exercise thereof; or abridging the freedom of speech, or of\\r\\n\\r\\nthe press, or the right of the people peaceably to assemble, and to petition the\\r\\n\\r\\nGovernment for a redress of grievances.\\r\\nII\\r\\nA well-regulated militia, being necessary to the security of a free State,\\r\\n\\r\\nthe right of the people to keep and bear arms, shall not be\\r\\n\\r\\ninfringed.\\r\\nIII\\r\\nNo soldier shall, in time of peace be quartered in any house, without the\\r\\n\\r\\nconsent of the owner, nor in time of war, but in a manner to be prescribed by\\r\\n\\r\\nlaw.\\r\\nIV\\r\\nThe right of the people to be secure in their persons, houses, papers, and\\r\\n\\r\\neffects, against unreasonable searches and seizures, shall not be violated, and'),\n",
       " Document(page_content='several State Legislatures, and all executive and judicial Officers,\\r\\n\\r\\nboth of the United States and of the several States, shall be bound\\r\\n\\r\\nby Oath or Affirmation, to support this Constitution; but no religious\\r\\n\\r\\nTest shall ever be required as a Qualification to any Office or public Trust\\r\\n\\r\\nunder the United States.\\r\\nARTICLE VII\\r\\nThe Ratification of the Conventions of nine States, shall be sufficient for the\\r\\n\\r\\nEstablishment of this Constitution between the States so ratifying the Same.\\r\\nDone in Convention by the Unanimous Consent of the States present\\r\\n\\r\\nthe Seventeenth Day of September in the Year of our Lord one\\r\\n\\r\\nthousand seven hundred and eighty seven and of the Independence of the\\r\\n\\r\\nUnited States of America the Twelfth. In Witness whereof We have\\r\\n\\r\\nhereunto subscribed our Names,\\r\\n\\r\\n\\r\\nGo. WASHINGTON—\\r\\n\\r\\nPresid. and deputy from Virginia\\r\\nNew Hampshire\\r\\nJohn Langdon\\r\\n\\r\\nNicholas Gilman\\r\\nMassachusetts\\r\\nNathaniel Gorham\\r\\n\\r\\nRufus King\\r\\nConnecticut\\r\\nWm. Saml. Johnson'),\n",
       " Document(page_content=\"the Congress; Provided that no Amendment which may be made prior to the\\r\\n\\r\\nYear one thousand eight hundred and eight shall in any Manner affect\\r\\n\\r\\nthe first and fourth Clauses in the ninth Section of the first Article;\\r\\n\\r\\nand that no State, without its Consent, shall be deprived of it's\\r\\n\\r\\nequal Suffrage in the Senate.\\r\\nARTICLE VI\\r\\nAll Debts contracted and Engagements entered into, before the Adoption\\r\\n\\r\\nof this Constitution, shall be as valid against the United States\\r\\n\\r\\nunder this Constitution, as under the Confederation.\\r\\nThis Constitution, and the Laws of the United States which shall be made\\r\\n\\r\\nin Pursuance thereof; and all Treaties made, or which shall be made,\\r\\n\\r\\nunder the Authority of the United States, shall be the supreme\\r\\n\\r\\nLaw of the Land; and the Judges in every State shall be bound thereby,\\r\\n\\r\\nany Thing in the Constitution or Laws of any State to the Contrary\\r\\n\\r\\nnotwithstanding.\\r\\nThe Senators and Representatives before mentioned, and the Members of the\"),\n",
       " Document(page_content='and the Day on which they shall give their Votes; which Day\\r\\n\\r\\nshall be the same throughout the United States.\\r\\nNo Person except a natural born Citizen, or a Citizen of the United States,\\r\\n\\r\\nat the time of the Adoption of this Constitution, shall be eligible to\\r\\n\\r\\nthe Office of President; neither shall any Person be eligible to that\\r\\n\\r\\nOffice who shall not have attained to the Age of thirty five Years,\\r\\n\\r\\nand been fourteen Years a Resident within the United States.\\r\\nIn Case of the Removal of the President from Office, or of his Death,\\r\\n\\r\\nResignation, or Inability to discharge the Powers and Duties of the\\r\\n\\r\\nsaid Office, the Same shall devolve on the Vice President, and the\\r\\n\\r\\nCongress may by Law provide for the Case of Removal, Death, Resignation\\r\\n\\r\\nor Inability, both of the President and Vice President, declaring what\\r\\n\\r\\nOfficer shall then act as President, and such Officer shall act accordingly,\\r\\n\\r\\nuntil the Disability be removed, or a President shall be elected.'),\n",
       " Document(page_content='of the Officers, and the Authority of training the militia according\\r\\n\\r\\nto the discipline prescribed by Congress;\\r\\nTo exercise exclusive Legislation in all Cases whatsoever,\\r\\n\\r\\nover such District (not exceeding ten Miles square) as may,\\r\\n\\r\\nby Cession of particular States, and the Acceptance of Congress,\\r\\n\\r\\nbecome the Seat of the Government of the United States, and to\\r\\n\\r\\nexercise like Authority over all Places purchased by the Consent\\r\\n\\r\\nof the Legislature of the State in which the Same shall be,\\r\\n\\r\\nfor the Erection of Forts, Magazines, Arsenals, Dockyards,\\r\\n\\r\\nand other needful Buildings;—And\\r\\nTo make all Laws which shall be necessary and proper for carrying\\r\\n\\r\\ninto Execution the foregoing Powers, and all other Powers vested\\r\\n\\r\\nby this Constitution in the Government of the United States,\\r\\n\\r\\nor in any Department or Officer thereof.\\r\\nSection 9.  The Migration or Importation of such Persons as any\\r\\n\\r\\nof the States now existing shall think proper to admit, shall not'),\n",
       " Document(page_content='laid by any State on Imports or Exports, shall be for the Use of the Treasury\\r\\n\\r\\nof the United States; and all such Laws shall be subject to the Revision\\r\\n\\r\\nand Controul of the Congress.\\r\\nNo State shall, without the Consent of Congress, lay any Duty of\\r\\n\\r\\nTonnage, keep Troops, or Ships of War in time of Peace, enter into any\\r\\n\\r\\nAgreement or Compact with another State, or with a foreign Power, or\\r\\n\\r\\nengage in War, unless actually invaded, or in such imminent Danger\\r\\n\\r\\nas will not admit of delay.\\r\\nARTICLE II\\r\\nSection 1.  The executive Power shall be vested in a President\\r\\n\\r\\nof the United States of America.  He shall hold his Office during\\r\\n\\r\\nthe Term of four Years, and, together with the Vice President\\r\\n\\r\\nchosen for the same Term, be elected, as follows:\\r\\nEach State shall appoint, in such Manner as the Legislature thereof may direct,\\r\\n\\r\\na Number of Electors, equal to the whole Number of Senators and Representatives'),\n",
       " Document(page_content='crime shall have been committed, which district shall have been previously\\r\\n\\r\\nascertained by law, and to be informed of the nature and cause of the\\r\\n\\r\\naccusation; to be confronted with the witnesses against him; to have compulsory\\r\\n\\r\\nprocess for obtaining witnesses in his favor, and to have the assistance of\\r\\n\\r\\ncounsel for his defense. \\r\\nVII\\r\\nIn suits at common law, where the value in controversy shall exceed twenty\\r\\n\\r\\ndollars, the right of trial by jury shall be preserved, and no fact tried by a\\r\\n\\r\\njury shall be otherwise re-examined in any court of the United States, than\\r\\n\\r\\naccording to the rules of the common law. \\r\\nVIII\\r\\nExcessive bail shall not be required nor excessive fines imposed, nor cruel\\r\\n\\r\\nand unusual punishments inflicted. \\r\\nIX\\r\\nThe enumeration in the Constitution, of certain rights, shall not be\\r\\n\\r\\nconstrued to deny or disparage others retained by the\\r\\n\\r\\npeople.\\xa0\\r\\nX\\r\\nThe powers not delegated to the United States by the Constitution, nor'),\n",
       " Document(page_content='prohibited by it to the States, are reserved to the States respectively, or to\\r\\n\\r\\nthe people.'),\n",
       " Document(page_content='which he fled, be delivered up, to be removed to the State having\\r\\n\\r\\nJurisdiction of the Crime.\\r\\nNo person held to Service or Labor in one State, under the Laws thereof,\\r\\n\\r\\nescaping into another, shall, in Consequence of any Law or Regulation therein,\\r\\n\\r\\nbe discharged from such Service or Labor, But shall be delivered up on Claim\\r\\n\\r\\nof the Party to whom such Service or Labor may be due.\\r\\nSection 3.  New States may be admitted by the Congress into this Union;\\r\\n\\r\\nbut no new States shall be formed or erected within the Jurisdiction\\r\\n\\r\\nof any other State; nor any State be formed by the Junction of two\\r\\n\\r\\nor more States, or Parts of States, without the Consent of the\\r\\n\\r\\nLegislatures of the States concerned as well as of the Congress.\\r\\nThe Congress shall have Power to dispose of and make all needful Rules\\r\\n\\r\\nand Regulations respecting the Territory or other Property belonging\\r\\n\\r\\nto the United States; and nothing in this Constitution shall be so'),\n",
       " Document(page_content='expire at the End of their next session.\\r\\nSection 3.  He shall from time to time give to the Congress\\r\\n\\r\\nInformation of the State of the Union, and recommend to their\\r\\n\\r\\nConsideration such Measures as he shall judge necessary and expedient;\\r\\n\\r\\nhe may, on extraordinary Occasions, convene both Houses, or either\\r\\n\\r\\nof them, and in Case of Disagreement between them, with Respect to\\r\\n\\r\\nthe Time of Adjournment, he may adjourn them to such Time as he shall\\r\\n\\r\\nthink proper; he shall receive Ambassadors and other public Ministers;\\r\\n\\r\\nhe shall take Care that the Laws be faithfully executed, and shall\\r\\n\\r\\nCommission all the Officers of the United States.\\r\\nSection 4.  The President, Vice President and all civil Officers of the\\r\\n\\r\\nUnited States, shall be removed from Office on Impeachment for,\\r\\n\\r\\nand Conviction of, Treason, Bribery, or other high Crimes and Misdemeanors.\\r\\nARTICLE III\\r\\nSection 1.  The judicial Power of the United States, shall be vested'),\n",
       " Document(page_content='The President shall, at stated Times, receive for his Services,\\r\\n\\r\\na Compensation, which shall neither be encreased nor diminished during\\r\\n\\r\\nthe Period for which he shall have been elected, and he shall not receive\\r\\n\\r\\nwithin that Period any other Emolument from the United States, or any of them.\\r\\nBefore he enter on the Execution of his Office, he shall take the\\r\\n\\r\\nfollowing Oath or Affirmation:—\"I do solemnly swear (or affirm) that\\r\\n\\r\\nI will faithfully execute the Office of President of the United States,\\r\\n\\r\\nand will to the best of my Ability, preserve, protect and defend the\\r\\n\\r\\nConstitution of the United States.\"\\r\\nSection 2.  The President shall be Commander in Chief of the Army\\r\\n\\r\\nand Navy of the United States, and of the Militia of the several States,\\r\\n\\r\\nwhen called into the actual Service of the United States;\\r\\n\\r\\nhe may require the Opinion, in writing, of the principal Officer\\r\\n\\r\\nin each of the executive Departments, upon any Subject relating to'),\n",
       " Document(page_content=\"of the Receipts and Expenditures of all public Money shall be\\r\\n\\r\\npublished from time to time.\\r\\nNo Title of Nobility shall be granted by the United States;\\r\\n\\r\\nand no Person holding any Office of Profit or Trust under them, shall,\\r\\n\\r\\nwithout the Consent of the Congress, accept of any present, Emolument,\\r\\n\\r\\nOffice, or Title, of any kind whatever, from any King, Prince,\\r\\n\\r\\nor foreign State.\\r\\nSection 10.  No State shall enter into any Treaty, Alliance, or\\r\\n\\r\\nConfederation; grant Letters of Marque and Reprisal; coin Money;\\r\\n\\r\\nemit Bills of Credit; make any Thing but gold and silver Coin a Tender\\r\\n\\r\\nin Payment of Debts; pass any Bill of Attainder, ex post facto Law,\\r\\n\\r\\nor Law impairing the Obligation of Contracts, or grant any Title of Nobility.\\r\\nNo State shall, without the Consent of the Congress, lay any Imposts or Duties\\r\\n\\r\\non Imports or Exports, except what may be absolutely necessary for executing\\r\\n\\r\\nit's inspection Laws: and the net Produce of all Duties and Imposts,\"),\n",
       " Document(page_content='in one supreme Court, and in such inferior Courts as the Congress may\\r\\n\\r\\nfrom time to time ordain and establish.  The Judges, both of the supreme\\r\\n\\r\\nand inferior Courts, shall hold their Offices during good behavior,\\r\\n\\r\\nand shall, at stated Times, receive for their Services, a Compensation,\\r\\n\\r\\nwhich shall not be diminished during their Continuance in Office.\\r\\nSection 2.  The judicial Power shall extend to all Cases, in Law and Equity,\\r\\n\\r\\narising under this Constitution, the Laws of the United States, and Treaties\\r\\n\\r\\nmade, or which shall be made, under their Authority;—to all Cases affecting\\r\\n\\r\\nAmbassadors, other public Ministers and Consuls;—to all Cases of admiralty\\r\\n\\r\\nand maritime Jurisdiction;—to Controversies to which the United States\\r\\n\\r\\nshall be a Party;—to Controversies between two or more States;—between a\\r\\n\\r\\nState and Citizens of another State;—between Citizens of different States;\\r\\n\\r\\n—between Citizens of the same State claiming Lands under Grants of'),\n",
       " Document(page_content='In your hands, my fellow citizens. . .more than mine. . .will rest the\\r\\n\\r\\nfinal success or failure of our course.  Since this country was founded,\\r\\n\\r\\neach generation of Americans has been summoned to give testimony\\r\\n\\r\\nto its national loyalty.  The graves of young Americans who answered\\r\\n\\r\\nthe call to service surround the globe.  Now the trumpet summons us again. . .\\r\\n\\r\\nnot as a call to bear arms, though arms we need. . .not as a call to battle. . .\\r\\n\\r\\nthough embattled we are. . .but a call to bear the burden of a long\\r\\n\\r\\ntwilight struggle. . .year in and year out, rejoicing in hope,\\r\\n\\r\\npatient in tribulation. . .a struggle against the common enemies of man:\\r\\n\\r\\ntyranny. . .poverty. . .disease. . .and war itself.  Can we forge against\\r\\n\\r\\nthese enemies a grand and global alliance. . .North and South. . .\\r\\n\\r\\nEast and West. . .that can assure a more fruitful life for all mankind?\\r\\n\\r\\nWill you join in that historic effort?'),\n",
       " Document(page_content='different States, and between a State, or the Citizens thereof,\\r\\n\\r\\nand foreign States, Citizens or Subjects.\\r\\nIn all cases affecting Ambassadors, other public Ministers and Consuls,\\r\\n\\r\\nand those in which a State shall be Party, the supreme Court shall have\\r\\n\\r\\noriginal Jurisdiction.  In all the other Cases before mentioned, the\\r\\n\\r\\nsupreme Court shall have appellate Jurisdiction, both as to Law and Fact,\\r\\n\\r\\nwith such Exceptions, and under such Regulations as the Congress shall make.\\r\\nThe Trial of all Crimes, except in Cases of Impeachment, shall be by Jury;\\r\\n\\r\\nand such Trial shall be held in the State where the said Crimes shall\\r\\n\\r\\nhave been committed; but when not committed within any State, the Trial\\r\\n\\r\\nshall be at such Place or Places as the Congress may by Law have directed.\\r\\nSection 3.  Treason against the United States, shall consist only in\\r\\n\\r\\nlevying War against them, or in adhering to their Enemies, giving them'),\n",
       " Document(page_content='for limited Times to Authors and Inventors the exclusive Right\\r\\n\\r\\nto their respective Writings and Discoveries;\\r\\nTo constitute Tribunals inferior to the supreme Court;\\r\\nTo define and punish Piracies and Felonies committed on the high Seas,\\r\\n\\r\\nand Offenses against the Law of Nations;\\r\\nTo declare War, grant Letters of Marque and Reprisal,\\r\\n\\r\\nand make Rules concerning Captures on Land and Water;\\r\\nTo raise and support Armies, but no Appropriation of Money to that Use\\r\\n\\r\\nshall be for a longer term than two Years;\\r\\nTo provide and maintain a Navy;\\r\\nTo make Rules for the Government and Regulation of the land and naval Forces;\\r\\nTo provide for calling forth the Militia to execute the Laws of the Union,\\r\\n\\r\\nsuppress Insurrections and repel Invasions;\\r\\nTo provide for organizing, arming, and disciplining, the Militia, and for\\r\\n\\r\\ngoverning such Part of them as may be employed in the Service of the\\r\\n\\r\\nUnited States, reserving to the States respectively, the Appointment'),\n",
       " Document(page_content='exercise the Office of President of the United States.\\r\\nThe Senate shall have the sole Power to try all Impeachments.\\r\\n\\r\\nWhen sitting for that Purpose, they shall be on Oath or Affirmation.\\r\\n\\r\\nWhen the President of the United States is tried, the Chief Justice\\r\\n\\r\\nshall preside: And no Person shall be convicted without the Concurrence\\r\\n\\r\\nof two thirds of the Members present.\\r\\nJudgment in cases of Impeachment shall not extend further than to removal\\r\\n\\r\\nfrom Office, and disqualification to hold and enjoy any Office of honor,\\r\\n\\r\\nTrust or Profit under the United States:  but the Party convicted shall\\r\\n\\r\\nnevertheless be liable and subject to Indictment, Trial, Judgment and\\r\\n\\r\\nPunishment, according to Law.\\r\\nSection 4.  The Times, Places and Manner of holding Elections for Senators and\\r\\n\\r\\nRepresentatives, shall be prescribed in each State by the Legislature thereof;\\r\\n\\r\\nbut the Congress may at any time by Law make or alter such Regulations,\\r\\n\\r\\nexcept as to the Places of chusing Senators.'),\n",
       " Document(page_content='Age of twenty five Years, and been seven Years a citizen of the United States,\\r\\n\\r\\nand who shall not, when elected, be an Inhabitant of that State in which\\r\\n\\r\\nhe shall be chosen.\\r\\nRepresentatives and direct Taxes shall be apportioned among\\r\\n\\r\\nthe several States which may be included within this Union,\\r\\n\\r\\naccording to their respective Numbers, which shall be determined\\r\\n\\r\\nby adding to the whole number of free Persons, including those\\r\\n\\r\\nbound to Service for a Term of Years, and excluding Indians not taxed,\\r\\n\\r\\nthree fifths of all other Persons.  The actual Enumeration shall be made\\r\\n\\r\\nwithin three Years after the first Meeting of the Congress of the\\r\\n\\r\\nUnited States, and within every subsequent Term of ten Years,\\r\\n\\r\\nin such Manner as they shall by law Direct.  The number of\\r\\n\\r\\nRepresentatives shall not exceed one for every thirty Thousand,\\r\\n\\r\\nbut each State shall have at least one Representative;\\r\\n\\r\\nand until such enumeration shall be made, the State of New Hampshire'),\n",
       " Document(page_content='be prohibited by the Congress prior to the Year one thousand eight\\r\\n\\r\\nhundred and eight, but a Tax or Duty may be imposed on such Importation,\\r\\n\\r\\nnot exceeding ten dollars for each Person.\\r\\nThe Privilege of the Writ of Habeas Corpus shall not be suspended, unless\\r\\n\\r\\nwhen in Cases of Rebellion or Invasion the public Safety may require it.\\r\\nNo Bill of Attainder or ex post facto Law shall be passed.\\r\\nNo Capitation, or other direct, Tax shall be laid, unless in Proportion\\r\\n\\r\\nto the Census or Enumeration herein before directed to be taken.\\r\\nNo Tax or Duty shall be laid on Articles exported from any State.\\r\\nNo Preference shall be given by any Regulation of Commerce or Revenue\\r\\n\\r\\nto the Ports of one State over those of another: nor shall Vessels bound to,\\r\\n\\r\\nor from, one State, be obliged to enter, clear, or pay Duties in another.\\r\\nNo Money shall be drawn from the Treasury, but in Consequence\\r\\n\\r\\nof Appropriations made by Law; and a regular Statement and Account'),\n",
       " Document(page_content='Aid and Comfort.  No Person shall be convicted of Treason unless on\\r\\n\\r\\nthe Testimony of two Witnesses to the same overt Act, or on Confession\\r\\n\\r\\nin open Court.\\r\\nThe Congress shall have power to declare the punishment of Treason,\\r\\n\\r\\nbut no Attainder of Treason shall work Corruption of Blood,\\r\\n\\r\\nor Forfeiture except during the Life of the Person attainted.\\r\\nARTICLE IV\\r\\nSection 1.  Full Faith and Credit shall be given in each State to the\\r\\n\\r\\npublic Acts, Records, and judicial Proceedings of every other State.\\r\\n\\r\\nAnd the Congress may by general Laws prescribe the Manner in which such Acts,\\r\\n\\r\\nRecords, and Proceedings shall be proved, and the Effect thereof.\\r\\nSection 2.  The Citizens of each State shall be entitled to all\\r\\n\\r\\nPrivileges and Immunities of Citizens in the several States.\\r\\nA Person charged in any State with Treason, Felony, or other Crime,\\r\\n\\r\\nwho shall flee from Justice, and be found in another State,\\r\\n\\r\\nshall on Demand of the executive Authority of the State from'),\n",
       " Document(page_content='shall be entitled to chuse three, Massachusetts eight, Rhode Island\\r\\n\\r\\nand Providence Plantations one, Connecticut five, New York six,\\r\\n\\r\\nNew Jersey four, Pennsylvania eight, Delaware one, Maryland six,\\r\\n\\r\\nVirginia ten, North Carolina five, South Carolina five, and Georgia three.\\r\\nWhen vacancies happen in the Representation from any State, the Executive\\r\\n\\r\\nAuthority thereof shall issue Writs of Election to fill such Vacancies.\\r\\nThe House of Representatives shall chuse their Speaker and other Officers;\\r\\n\\r\\nand shall have the sole Power of Impeachment.\\r\\nSection 3.  The Senate of the United States shall be composed of\\r\\n\\r\\ntwo Senators from each State, chosen by the legislature thereof,\\r\\n\\r\\nfor six Years; and each Senator shall have one Vote.\\r\\nImmediately after they shall be assembled in Consequence of the first Election,\\r\\n\\r\\nthey shall be divided as equally as may be into three Classes.  The Seats of\\r\\n\\r\\nthe Senators of the first Class shall be vacated at the expiration of the'),\n",
       " Document(page_content='increased during such time; and no Person holding any Office under the\\r\\n\\r\\nUnited States, shall be a Member of either House during his Continuance\\r\\n\\r\\nin Office.\\r\\nSection 7.  All Bills for raising Revenue shall originate in the\\r\\n\\r\\nHouse of Representatives; but the Senate may propose or concur with\\r\\n\\r\\nAmendments as on other Bills.\\r\\nEvery Bill which shall have passed the House of Representatives and\\r\\n\\r\\nthe Senate, shall, before it become a Law, be presented to the\\r\\n\\r\\nPresident of the United States; If he approve he shall sign it,\\r\\n\\r\\nbut if not he shall return it, with his Objections to that House\\r\\n\\r\\nin which it shall have originated, who shall enter the Objections\\r\\n\\r\\nat large on their Journal, and proceed to reconsider it.\\r\\n\\r\\nIf after such Reconsideration two thirds of that house\\r\\n\\r\\nshall agree to pass the Bill, it shall be sent,\\r\\n\\r\\ntogether with the Objections, to the other House, by which\\r\\n\\r\\nit shall likewise be reconsidered, and if approved by two thirds'),\n",
       " Document(page_content='and Limitations prescribed in the Case of a Bill.\\r\\nSection 8.  The Congress shall have Power to lay and collect Taxes, Duties,\\r\\n\\r\\nImposts and Excises, to pay the Debts and provide for the common Defence\\r\\n\\r\\nand general Welfare of the United States; but all Duties, Imposts and Excises\\r\\n\\r\\nshall be uniform throughout the United States;\\r\\nTo borrow Money on the credit of the United States;\\r\\nTo regulate Commerce with foreign Nations, and among the several States,\\r\\n\\r\\nand with the Indian Tribes;\\r\\nTo establish an uniform Rule of Naturalization, and uniform Laws\\r\\n\\r\\non the subject of Bankruptcies throughout the United States;\\r\\nTo coin Money, regulate the Value thereof, and of foreign Coin,\\r\\n\\r\\nand fix the Standard of Weights and Measures;\\r\\nTo provide for the Punishment of counterfeiting the Securities\\r\\n\\r\\nand current Coin of the United States;\\r\\nTo establish Post Offices and Post Roads;\\r\\nTo promote the Progress of Science and useful Arts, by securing'),\n",
       " Document(page_content='one fifth of those Present, be entered on the Journal.\\r\\nNeither House, during the Session of Congress, shall, without the\\r\\n\\r\\nConsent of the other, adjourn for more than three days, nor to\\r\\n\\r\\nany other Place than that in which the two Houses shall be sitting.\\r\\nSection 6.  The Senators and Representatives shall receive a Compensation\\r\\n\\r\\nfor their Services, to be ascertained by Law, and paid out of the Treasury\\r\\n\\r\\nof the United States.  They shall in all Cases, except Treason, Felony and\\r\\n\\r\\nBreach of the Peace, be privileged from Arrest during their Attendance\\r\\n\\r\\nat the Session of their respective Houses, and in going to and returning\\r\\n\\r\\nfrom the same; and for any Speech or Debate in either House,\\r\\n\\r\\nthey shall not be questioned in any other Place.\\r\\nNo Senator or Representative shall, during the Time for which he was elected,\\r\\n\\r\\nbe appointed to any civil Office under the authority of the United States,\\r\\n\\r\\nwhich shall have been created, or the Emoluments whereof shall have been'),\n",
       " Document(page_content='to which the State may be entitled in the Congress:  but no Senator or\\r\\n\\r\\nRepresentative, or Person holding an Office of Trust or Profit under\\r\\n\\r\\nthe United States, shall be appointed an Elector.\\r\\nThe Electors shall meet in their respective States, and vote by Ballot\\r\\n\\r\\nfor two Persons, of whom one at least shall not be an Inhabitant of\\r\\n\\r\\nthe same State with themselves.  And they shall make a List of\\r\\n\\r\\nall the Persons voted for, and of the Number of Votes for each;\\r\\n\\r\\nwhich List they shall sign and certify, and transmit sealed to\\r\\n\\r\\nthe Seat of the Government of the United States, directed to the\\r\\n\\r\\nPresident of the Senate.  The President of the Senate shall,\\r\\n\\r\\nin the Presence of the Senate and House of Representatives,\\r\\n\\r\\nopen all the Certificates, and the Votes shall then be counted.\\r\\n\\r\\nThe Person having the greatest Number of Votes shall be the President,\\r\\n\\r\\nif such Number be a Majority of the whole Number of Electors appointed;'),\n",
       " Document(page_content='of that House, it shall become a law.  But in all such Cases\\r\\n\\r\\nthe Votes of both Houses shall be determined by Yeas and Nays,\\r\\n\\r\\nand the Names of the Persons voting for and against the Bill shall be\\r\\n\\r\\nentered on the Journal of each House respectively.  If any Bill\\r\\n\\r\\nshall not be returned by the President within ten Days (Sundays excepted)\\r\\n\\r\\nafter it shall have been presented to him, the Same shall be a Law,\\r\\n\\r\\nin like Manner as if he had signed it, unless the Congress by their\\r\\n\\r\\nAdjournment prevent its Return, in which case it shall not be a Law.\\r\\nEvery Order, Resolution, or Vote to which the Concurrence of the Senate\\r\\n\\r\\nand House of Representatives may be necessary (except on a question\\r\\n\\r\\nof Adjournment) shall be presented to the President of the United States;\\r\\n\\r\\nand before the Same shall take Effect, shall be approved by him,\\r\\n\\r\\nor being disapproved by him, shall be repassed by two thirds of\\r\\n\\r\\nthe Senate and House of Representatives, according to the Rules'),\n",
       " Document(page_content='at such a time, through fear of giving offense, I should consider myself\\r\\n\\r\\nas guilty of treason towards my country, and of an act of disloyalty\\r\\n\\r\\ntoward the Majesty of Heaven, which I revere above all earthly kings.\\r\\nMr. President, it is natural to man to indulge in the illusions of hope.\\r\\n\\r\\nWe are apt to shut our eyes against a painful truth, and listen to the\\r\\n\\r\\nsong of that siren till she transforms us into beasts.  Is this the part\\r\\n\\r\\nof wise men, engaged in a great and arduous struggle for liberty?\\r\\n\\r\\nAre we disposed to be of the number of those who, having eyes, see not,\\r\\n\\r\\nand, having ears, hear not, the things which so nearly concern their\\r\\n\\r\\ntemporal salvation?  For my part, whatever anguish of spirit it may cost,\\r\\n\\r\\nI am willing to know the whole truth; to know the worst, and to provide for it.\\r\\nI have but one lamp by which my feet are guided, and that is the lamp of\\r\\n\\r\\nexperience.  I know of no way of judging of the future but by the past.'),\n",
       " Document(page_content='The Congress shall assemble at least once in every Year,\\r\\n\\r\\nand such Meeting shall be on the first Monday in December,\\r\\n\\r\\nunless they shall by law appoint a different Day.\\r\\nSection 5.  Each House shall be the Judge of the Elections,\\r\\n\\r\\nReturns and Qualifications of its own Members, and a\\r\\n\\r\\nMajority of each shall constitute a Quorum to do Business;\\r\\n\\r\\nbut a smaller Number may adjourn from day to day,\\r\\n\\r\\nand may be authorized to compel the Attendance of absent Members,\\r\\n\\r\\nin such Manner, and under such Penalties as each House may provide.\\r\\nEach house may determine the Rules of its Proceedings,\\r\\n\\r\\npunish its Members for disorderly Behavior, and, with the\\r\\n\\r\\nConcurrence of two-thirds, expel a Member.\\r\\nEach house shall keep a Journal of its Proceedings,\\r\\n\\r\\nand from time to time publish the same, excepting such Parts as may\\r\\n\\r\\nin their Judgment require Secrecy; and the Yeas and Nays of the\\r\\n\\r\\nMembers of either House on any question shall, at the Desire of'),\n",
       " Document(page_content='the Duties of their respective Offices, and he shall have Power\\r\\n\\r\\nto grant Reprieves and Pardons for Offenses against the United States,\\r\\n\\r\\nexcept in Cases of impeachment.\\r\\nHe shall have Power, by and with the Advice and Consent of the\\r\\n\\r\\nSenate, to make Treaties, provided two thirds of the Senators\\r\\n\\r\\npresent concur; and he shall nominate, and by and with the Advice\\r\\n\\r\\nand Consent of the Senate, shall appoint Ambassadors, other public\\r\\n\\r\\nMinisters and Consuls, Judges of the supreme Court, and all other\\r\\n\\r\\nOfficers of the United States, whose Appointments are not herein\\r\\n\\r\\notherwise provided for, and which shall be established by Law:\\r\\n\\r\\nbut the Congress may by Law vest the Appointment of such inferior Officers,\\r\\n\\r\\nas they think proper, in the President alone, in the Courts of Law,\\r\\n\\r\\nor in the Heads of Departments.\\r\\nThe President shall have Power to fill up all Vacancies that may happen\\r\\n\\r\\nduring the Recess of the Senate, by granting Commissions which shall'),\n",
       " Document(page_content='There is a just God who presides over the destinies of nations, and who will\\r\\n\\r\\nraise up friends to fight our battles for us.  The battle, sir, is not to the\\r\\n\\r\\nstrong alone; it is to the vigilant, the active, the brave.  Besides, sir,\\r\\n\\r\\nwe have no election.  If we were base enough to desire it, it is now too late\\r\\n\\r\\nto retire from the contest.  There is no retreat but in submission and slavery!\\r\\n\\r\\nOur chains are forged!  Their clanking may be heard on the plains of Boston!\\r\\n\\r\\nThe war is inevitable—and let it come!  I repeat it, sir, let it come.\\r\\nIt is in vain, sir, to extenuate the matter.  Gentlemen may cry, Peace, Peace—but\\r\\n\\r\\nthere is no peace.  The war is actually begun!  The next gale that sweeps\\r\\n\\r\\nfrom the north will bring to our ears the clash of resounding arms!\\r\\n\\r\\nOur brethren are already in the field!  Why stand we here idle?\\r\\n\\r\\nWhat is it that gentlemen wish?  What would they have?  Is life so dear,'),\n",
       " Document(page_content='born in this century, tempered by war, disciplined by a hard and bitter peace,\\r\\n\\r\\nproud of our ancient heritage. . .and unwilling to witness or permit the slow\\r\\n\\r\\nundoing of those human rights to which this nation has always been committed,\\r\\n\\r\\nand to which we are committed today. . .at home and around the world.\\r\\nLet every nation know. . .whether it wishes us well or ill. . .\\r\\n\\r\\nthat we shall pay any price, bear any burden, meet any hardship,\\r\\n\\r\\nsupport any friend, oppose any foe, to assure the survival and\\r\\n\\r\\nthe success of liberty.  This much we pledge. . .and more.\\r\\nTo those old allies whose cultural and spiritual origins we share:\\r\\n\\r\\nwe pledge the loyalty of faithful friends.  United. . .there is\\r\\n\\r\\nlittle we cannot do in a host of co-operative ventures.\\r\\n\\r\\nDivided. . .there is little we can do. . .for we dare not meet\\r\\n\\r\\na powerful challenge, at odds, and split asunder.\\r\\n\\r\\nTo those new states whom we welcome to the ranks of the free:'),\n",
       " Document(page_content='In the long history of the world, only a few generations have been granted\\r\\n\\r\\nthe role of defending freedom in its hour of maximum danger; I do not shrink\\r\\n\\r\\nfrom this responsibility. . .I welcome it.  I do not believe that any of us\\r\\n\\r\\nwould exchange places with any other people or any other generation.\\r\\n\\r\\nThe energy, the faith, the devotion which we bring to this endeavor\\r\\n\\r\\nwill light our country and all who serve it. . .and the glow from\\r\\n\\r\\nthat fire can truly light the world.\\r\\nAnd so, my fellow Americans. . .ask not what your country can\\r\\n\\r\\ndo for you. . .ask what you can do for your country.  My fellow\\r\\n\\r\\ncitizens of the world. . .ask not what America will do for you,\\r\\n\\r\\nbut what together we can do for the Freedom of Man.\\r\\nFinally, whether you are citizens of America or citizens of the world,\\r\\n\\r\\nask of us here the same high standards of strength and sacrifice\\r\\n\\r\\nwhich we ask of you.  With a good conscience our only sure reward,'),\n",
       " Document(page_content='and if there be more than one who have such Majority, and have an equal\\r\\n\\r\\nNumber of votes, then the House of Representatives shall immediately\\r\\n\\r\\nchuse by Ballot one of them for President; and if no Person have\\r\\n\\r\\na Majority, then from the five highest on the List the said House\\r\\n\\r\\nshall in like Manner chuse the President.  But in chusing the President,\\r\\n\\r\\nthe Votes shall be taken by States, the Representation from each State\\r\\n\\r\\nhaving one Vote; a Quorum for this Purpose shall consist of a Member\\r\\n\\r\\nor Members from two thirds of the States, and a Majority of all the\\r\\n\\r\\nStates shall be necessary to a Choice.  In every Case, after the Choice\\r\\n\\r\\nof the President, the Person having the greatest Number of Votes of\\r\\n\\r\\nthe Electors shall be the Vice President.  But if there should remain\\r\\n\\r\\ntwo or more who have equal Votes, the Senate shall chuse from them\\r\\n\\r\\nby Ballot the Vice President.\\r\\nThe Congress may determine the Time of chusing the Electors,'),\n",
       " Document(page_content='no Warrants shall issue, but upon probable cause, supported by oath or\\r\\n\\r\\naffirmation, and particularly describing the place to be searched, and the\\r\\n\\r\\npersons or things to be seized. \\r\\nV\\r\\nNo person shall be held to answer for a capital, or otherwise infamous crime,\\r\\n\\r\\nunless on a presentment or indictment of a Grand Jury, except in cases arising\\r\\n\\r\\nin the land or naval forces, or in the Militia, when in actual service in time\\r\\n\\r\\nof War or public danger; nor shall any person be subject for the same offense to\\r\\n\\r\\nbe twice put in jeopardy of life or limb; nor shall be compelled in any criminal\\r\\n\\r\\ncase to be a witness against himself, nor be deprived of life, liberty, or\\r\\n\\r\\nproperty, without due process of law; nor shall private property be taken for\\r\\n\\r\\npublic use without just compensation. \\r\\nVI\\r\\nIn all criminal prosecutions, the accused shall enjoy the right to a speedy\\r\\n\\r\\nand public trial, by an impartial jury of the State and district wherein the'),\n",
       " Document(page_content='second Year, of the second Class at the expiration of the fourth Year,\\r\\n\\r\\nand of the third Class at the expiration of the sixth Year, so that one third\\r\\n\\r\\nmay be chosen every second Year; and if vacancies happen by Resignation,\\r\\n\\r\\nor otherwise, during the recess of the Legislature of any State,\\r\\n\\r\\nthe Executive thereof may make temporary Appointments until the\\r\\n\\r\\nnext meeting of the Legislature, which shall then fill such Vacancies.\\r\\nNo person shall be a Senator who shall not have attained to the Age of\\r\\n\\r\\nthirty Years, and been nine Years a Citizen of the United States,\\r\\n\\r\\nand who shall not, when elected, be an Inhabitant of that State\\r\\n\\r\\nfor which he shall be chosen.\\r\\nThe Vice-President of the United States shall be President of the Senate,\\r\\n\\r\\nbut shall have no Vote, unless they be equally divided.\\r\\nThe Senate shall choose their other Officers, and also a President\\r\\n\\r\\npro tempore, in the Absence of the Vice-President, or when he shall'),\n",
       " Document(page_content=\"JFK's Inaugural Address, January 20, 1961, 12:11 EST\\r\\nWe observe today not a victory of party but a celebration of freedom. . .\\r\\n\\r\\nsymbolizing an end as well as a beginning. . .signifying renewal\\r\\n\\r\\nas well as change for I have sworn before you and Almighty God\\r\\n\\r\\nthe same solemn oath our forbears prescribed nearly a century\\r\\n\\r\\nand three-quarters ago.\\r\\nThe world is very different now, for man holds in his mortal hands\\r\\n\\r\\nthe power to abolish all forms of human poverty and all forms of human life.\\r\\n\\r\\nAnd yet the same revolutionary beliefs for which our forbears fought\\r\\n\\r\\nare still at issue around the globe. . .the belief that the rights of man\\r\\n\\r\\ncome not from the generosity of the state but from the hand of God.\\r\\n\\r\\nWe dare not forget today that we are the heirs of that first revolution.\\r\\nLet the word go forth from this time and place. . .to friend and foe alike. . .\\r\\n\\r\\nthat the torch has been passed to a new generation of Americans. . .\"),\n",
       " Document(page_content=\"Roger Sherman\\r\\nNew York\\r\\nAlexander Hamilton\\r\\nNew Jersey\\r\\nWil: Livingston\\r\\n\\r\\nDavid Brearley\\r\\n\\r\\nWm. Paterson\\r\\n\\r\\nJona: Dayton\\r\\nPennsylvania\\r\\nB Franklin\\r\\n\\r\\nThomas Mifflin\\r\\n\\r\\nRobt Morris\\r\\n\\r\\nGeo. Clymer\\r\\n\\r\\nThos FitzSimons\\r\\n\\r\\nJared Ingersoll\\r\\n\\r\\nJames Wilson\\r\\n\\r\\nGouv Morris\\r\\nDelaware\\r\\nGeo: Read\\r\\n\\r\\nGunning Bedford jun\\r\\n\\r\\nJohn Dickinson\\r\\n\\r\\nRichard Bassett\\r\\n\\r\\nJaco: Broom\\r\\nMaryland\\r\\nJames Mchenry\\r\\n\\r\\nDan of St Thos. Jenifer\\r\\n\\r\\nDanl Carroll\\r\\nVirginia\\r\\nJohn Blair—\\r\\n\\r\\nJames Madison Jr.\\r\\nNorth Carolina\\r\\nWm. Blount\\r\\n\\r\\nRich'd Dobbs Spaight\\r\\n\\r\\nHu Williamson\\r\\nSouth Carolina\\r\\nJ. Rutledge\\r\\n\\r\\nCharles Cotesworth Pinckney\\r\\n\\r\\nCharles Pinckney\\r\\n\\r\\nPierce Butler\\r\\nGeorgia\\r\\nWilliam Few\\r\\n\\r\\nAbr Baldwin\\r\\nAttest:\\r\\n\\r\\nWilliam Jackson, Secretary\"),\n",
       " Document(page_content='Give Me Liberty Or Give Me Death\\r\\nPatrick Henry, March 23, 1775.\\r\\nNo man thinks more highly than I do of the patriotism, as well as abilities,\\r\\n\\r\\nof the very worthy gentlemen who have just addressed the House.  But different\\r\\n\\r\\nmen often see the same subject in different lights; and, therefore, I hope it\\r\\n\\r\\nwill not be thought disrespectful to those gentlemen if, entertaining as I do\\r\\n\\r\\nopinions of a character very opposite to theirs, I shall speak forth my\\r\\n\\r\\nsentiments freely and without reserve.  This is no time for ceremony.\\r\\n\\r\\nThe question before the House is one of awful moment to this country.\\r\\n\\r\\nFor my own part, I consider it as nothing less than a question of\\r\\n\\r\\nfreedom or slavery; and in proportion to the magnitude of the subject\\r\\n\\r\\nought to be the freedom of the debate.  It is only in this way that\\r\\n\\r\\nwe can hope to arrive at truth, and fulfill the great responsibility\\r\\n\\r\\nwhich we hold to God and our country.  Should I keep back my opinions'),\n",
       " Document(page_content='what we say here, but it can never forget what they did here.\\r\\nIt is for us the living, rather, to be dedicated here to the unfinished\\r\\n\\r\\nwork which they who fought here have thus far so nobly advanced.\\r\\n\\r\\nIt is rather for us to be here dedicated to the great task remaining\\r\\n\\r\\nbefore us ... that from these honored dead we take increased devotion\\r\\n\\r\\nto that cause for which they gave the last full measure of devotion ...\\r\\n\\r\\nthat we here highly resolve that these dead shall not have died in vain ...\\r\\n\\r\\nthat this nation, under God, shall have a new birth of freedom ...\\r\\n\\r\\nand that government of the people ... by the people ... for the people ...\\r\\n\\r\\nshall not perish from this earth.'),\n",
       " Document(page_content=\"Lincoln's Gettysburg Address,given November 19, 1863\\r\\n\\r\\non the battlefield near Gettysburg, Pennsylvania, USA\\r\\n\\r\\nFour score and seven years ago, our fathers brought forth\\r\\n\\r\\nupon this continent a new nation:  conceived in liberty, and\\r\\n\\r\\ndedicated to the proposition that all men are created equal.\\r\\nNow we are engaged in a great civil war ... testing whether\\r\\n\\r\\nthat nation, or any nation so conceived and so dedicated ...\\r\\n\\r\\ncan long endure.  We are met on a great battlefield of that war.\\r\\nWe have come to dedicate a portion of that field as a final resting place\\r\\n\\r\\nfor those who here gave their lives that this nation might live.\\r\\n\\r\\nIt is altogether fitting and proper that we should do this.\\r\\nBut, in a larger sense, we cannot dedicate ... we cannot consecrate ...\\r\\n\\r\\nwe cannot hallow this ground.  The brave men, living and dead,\\r\\n\\r\\nwho struggled here have consecrated it, far above our poor power\\r\\n\\r\\nto add or detract.  The world will little note, nor long remember,\"),\n",
       " Document(page_content='or peace so sweet, as to be purchased at the price of chains and slavery?\\r\\n\\r\\nForbid it, Almighty God!  I know not what course others may take;\\r\\n\\r\\nbut as for me, give me liberty or give me death!'),\n",
       " Document(page_content='. . .to assist free men and free governments in casting off the chains of\\r\\n\\r\\npoverty.  But this peaceful revolution of hope cannot become the prey of\\r\\n\\r\\nhostile powers.  Let all our neighbors know that we shall join with them\\r\\n\\r\\nto oppose aggression or subversion anywhere in the Americas. . .and let\\r\\n\\r\\nevery other power know that this hemisphere intends to remain the master\\r\\n\\r\\nof its own house.\\r\\nTo that world assembly of sovereign states:  the United Nations. . .\\r\\n\\r\\nour last best hope in an age where the instruments of war\\r\\n\\r\\nhave far outpaced the instruments of peace, we renew our pledge\\r\\n\\r\\nof support. . .to prevent it from becoming merely a forum for\\r\\n\\r\\ninvective. . .to strengthen its shield of the new and the weak. . .\\r\\n\\r\\nand to enlarge the area in which its writ may run.\\r\\nFinally, to those nations who would make themselves our adversaries,\\r\\n\\r\\nwe offer not a pledge but a request:  that both sides begin anew\\r\\n\\r\\nthe quest for peace; before the dark powers of destruction unleashed'),\n",
       " Document(page_content='An appeal to arms  and to the God of hosts is all that is left us!\\r\\nThey tell us, sir, that we are weak; unable to cope with so formidable\\r\\n\\r\\nan adversary.  But when shall we be stronger?  Will it be the next week,\\r\\n\\r\\nor the next year?  Will it be when we are totally disarmed, and when a British\\r\\n\\r\\nguard shall be stationed in every house?  Shall we gather strength by\\r\\n\\r\\nirresolution and inaction?  Shall we acquire the means of effectual resistance\\r\\n\\r\\nby lying supinely on our backs and hugging the delusive phantom of hope, until\\r\\n\\r\\nour enemies shall have bound us hand and foot?  Sir, we are not weak if we make\\r\\n\\r\\na proper use of those means which the God of nature hath placed in our power.\\r\\n\\r\\nThe millions of people, armed in the holy cause of liberty, and in such a\\r\\n\\r\\ncountry as that which we possess, are invincible by any force which our enemy\\r\\n\\r\\ncan send against us.  Besides, sir, we shall not fight our battles alone.'),\n",
       " Document(page_content='control of arms. . .and bring the absolute power to destroy\\r\\n\\r\\nother nations under the absolute control of all nations.\\r\\n\\r\\nLet both sides seek to invoke the wonders of science instead\\r\\n\\r\\nof its terrors.  Together let us explore the stars, conquer the\\r\\n\\r\\ndeserts, eradicate disease, tap the ocean depths, and encourage\\r\\n\\r\\nthe arts and commerce.  Let both sides unite to heed in all corners\\r\\n\\r\\nof the earth the command of Isaiah. . .to \"undo the heavy burdens. . .\\r\\n\\r\\nlet the oppressed go free.\"\\r\\nAnd if a beachhead of co-operation may push back the jungle of suspicion. . .\\r\\n\\r\\nlet both sides join in creating not a new balance of power. . .\\r\\n\\r\\nbut a new world of law. . .where the strong are just. . .\\r\\n\\r\\nand the weak secure. . .and the peace preserved. . . .\\r\\nAll this will not be finished in the first one hundred days.\\r\\n\\r\\nNor will it be finished in the first one thousand days. . .\\r\\n\\r\\nnor in the life of this administration, nor even perhaps\\r\\n\\r\\nin our lifetime on this planet.  But let us begin.'),\n",
       " Document(page_content='we pledge our word that one form of colonial control shall not\\r\\n\\r\\nhave passed away merely to be replaced by a far more iron tyranny.\\r\\n\\r\\nWe shall not always expect to find them supporting our view.\\r\\n\\r\\nBut we shall always hope to find them strongly supporting their\\r\\n\\r\\nown freedom. . .and to remember that. . .in the past. . .those who\\r\\n\\r\\nfoolishly sought power by riding the back of the tiger ended up inside.\\r\\n\\r\\nTo those people in the huts and villages of half the globe\\r\\n\\r\\nstruggling to break the bonds of mass misery:  we pledge our best\\r\\n\\r\\nefforts to help them help themselves, for whatever period\\r\\n\\r\\nis required. . .not because the Communists may be doing it,\\r\\n\\r\\nnot because we seek their votes, but because it is right.\\r\\n\\r\\nIf a free society cannot help the many who are poor,\\r\\n\\r\\nit cannot save the few who are rich.\\r\\nTo our sister republics south of our border:  we offer a special pledge. . .\\r\\n\\r\\nto convert our good words into good deeds. . .in a new alliance for progress'),\n",
       " Document(page_content='the storm which is now coming on.  We have petitioned; we have remonstrated;\\r\\n\\r\\nwe have supplicated; we have prostrated ourselves before the throne, and have\\r\\n\\r\\nimplored its interposition to arrest the tyrannical hands of the ministry and\\r\\n\\r\\nParliament.  Our petitions have been slighted; our remonstrances have produced\\r\\n\\r\\nadditional violence and insult; our supplications have been disregarded;\\r\\n\\r\\nand we have been spurned, with contempt, from the foot of the throne!\\r\\n\\r\\nIn vain, after these things, may we indulge the fond hope of peace and\\r\\n\\r\\nreconciliation.  There is no longer any room for hope.  If we wish to be free—if\\r\\n\\r\\nwe mean to preserve inviolate those inestimable privileges for which\\r\\n\\r\\nwe have been so long contending—if we mean not basely to abandon the noble\\r\\n\\r\\nstruggle in which we have been so long engaged, and which we have pledged\\r\\n\\r\\nourselves never to abandon until the glorious object of our contest\\r\\n\\r\\nshall be obtained—we must fight!  I repeat it, sir, we must fight!'),\n",
       " Document(page_content=\"with history the final judge of our deeds; let us go forth to lead\\r\\n\\r\\nthe land we love, asking His blessing and His help, but knowing that\\r\\n\\r\\nhere on earth God's work must truly be our own.\"),\n",
       " Document(page_content=\"by science engulf all humanity in planned or accidental self-destruction.\\r\\n\\r\\nWe dare not tempt them with weakness.  For only when our arms are sufficient\\r\\n\\r\\nbeyond doubt can we be certain beyond doubt that they will never be employed.\\r\\n\\r\\nBut neither can two great and powerful groups of nations take comfort from\\r\\n\\r\\nour present course. . .both sides overburdened by the cost of modern weapons,\\r\\n\\r\\nboth rightly alarmed by the steady spread of the deadly atom, yet both racing\\r\\n\\r\\nto alter that uncertain balance of terror that stays the hand of Mankind's\\r\\n\\r\\nfinal war.\\r\\nSo let us begin anew. . .remembering on both sides that civility\\r\\n\\r\\nis not a sign of weakness, and sincerity is always subject to proof.\\r\\n\\r\\nLet us never negotiate out of fear, but let us never fear to negotiate.\\r\\n\\r\\nLet both sides explore what problems unite us instead of belaboring\\r\\n\\r\\nthose problems which divide us.  Let both sides, for the first time,\\r\\n\\r\\nformulate serious and precise proposals for the inspection and\"),\n",
       " Document(page_content='its purpose be not to force us to submission?  Can gentlemen assign any other\\r\\n\\r\\npossible motive for it?  Has Great Britain any enemy, in this quarter of\\r\\n\\r\\nthe world, to call for all this accumulation of navies and armies?  No, sir,\\r\\n\\r\\nshe has none.  They are meant for us:  they can be meant for no other.\\r\\n\\r\\nThey are sent over to bind and rivet upon us those chains which the British\\r\\n\\r\\nministry have been so long forging.  And what have we to oppose to them?\\r\\n\\r\\nShall we try argument?  Sir, we have been trying that for the last ten years.\\r\\n\\r\\nHave we anything new to offer upon the subject?  Nothing.  We have held the\\r\\n\\r\\nsubject up in every light of which it is capable; but it has been all in vain.\\r\\n\\r\\nShall we resort to entreaty and humble supplication?  What terms shall we\\r\\n\\r\\nfind which have not been already exhausted?  Let us not, I beseech you, sir,\\r\\n\\r\\ndeceive ourselves.  Sir, we have done everything that could be done to avert'),\n",
       " Document(page_content='And judging by the past, I wish to know what there has been in the conduct\\r\\n\\r\\nof the British ministry for the last ten years to justify those hopes with\\r\\n\\r\\nwhich  gentlemen have been pleased to solace themselves and the House.\\r\\n\\r\\nIs it that insidious smile with which our petition has been lately received?\\r\\n\\r\\nTrust it not, sir; it will prove a snare to your feet.  Suffer not yourselves\\r\\n\\r\\nto be betrayed with a kiss.  Ask yourselves how this gracious reception of our\\r\\n\\r\\npetition comports with those warlike preparations which cover our waters and\\r\\n\\r\\ndarken our land.  Are fleets and armies necessary to a work of love and\\r\\n\\r\\nreconciliation?  Have we shown ourselves so unwilling to be reconciled that\\r\\n\\r\\nforce must be called in to win back our love?  Let us not deceive ourselves,\\r\\n\\r\\nsir.  These are the implements of war and subjugation; the last arguments to\\r\\n\\r\\nwhich kings resort.  I ask gentlemen, sir, what means this martial array, if')]"
      ]
     },
     "execution_count": 44,
     "metadata": {},
     "output_type": "execute_result"
    }
   ],
   "source": [
    "query = \"The Constitution of the United States?\"\n",
    "astra_vectorstore.similarity_search(query, k=100)"
   ]
  },
  {
   "cell_type": "markdown",
   "id": "4f60e780",
   "metadata": {},
   "source": [
    "# Retrieval Augmented Generation"
   ]
  },
  {
   "cell_type": "code",
   "execution_count": 47,
   "id": "92427d99",
   "metadata": {},
   "outputs": [],
   "source": [
    "retriever = astra_vectorstore.as_retriever(search_kwargs={'k': 100})"
   ]
  },
  {
   "cell_type": "code",
   "execution_count": 50,
   "id": "3d25960b",
   "metadata": {},
   "outputs": [],
   "source": [
    "from langchain.chains import RetrievalQA\n",
    "from langchain.chat_models import ChatOpenAI\n",
    "\n",
    "llm = ChatOpenAI(temperature=0.0, model='gpt-3.5-turbo')\n",
    "\n",
    "qa_retriever = RetrievalQA.from_chain_type(\n",
    "    llm=llm,\n",
    "    retriever=retriever,\n",
    "    chain_type='stuff',\n",
    "    \n",
    ")"
   ]
  },
  {
   "cell_type": "code",
   "execution_count": 51,
   "id": "86d97fcd",
   "metadata": {},
   "outputs": [
    {
     "data": {
      "text/plain": [
       "'The Constitution of the United States is the supreme law of the United States of America. It was created in 1787 and outlines the framework of the federal government, its powers, and the rights of the citizens. It consists of a Preamble, seven Articles, and a series of Amendments, including the Bill of Rights.'"
      ]
     },
     "execution_count": 51,
     "metadata": {},
     "output_type": "execute_result"
    }
   ],
   "source": [
    "query = \"The Constitution of the United States?\"\n",
    "qa_retriever.run(query)"
   ]
  },
  {
   "cell_type": "code",
   "execution_count": null,
   "id": "849a48eb",
   "metadata": {},
   "outputs": [],
   "source": []
  }
 ],
 "metadata": {
  "kernelspec": {
   "display_name": "Python 3 (ipykernel)",
   "language": "python",
   "name": "python3"
  },
  "language_info": {
   "codemirror_mode": {
    "name": "ipython",
    "version": 3
   },
   "file_extension": ".py",
   "mimetype": "text/x-python",
   "name": "python",
   "nbconvert_exporter": "python",
   "pygments_lexer": "ipython3",
   "version": "3.9.6"
  }
 },
 "nbformat": 4,
 "nbformat_minor": 5
}
